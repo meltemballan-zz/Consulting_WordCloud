{
 "cells": [
  {
   "cell_type": "code",
   "execution_count": null,
   "metadata": {
    "collapsed": false
   },
   "outputs": [],
   "source": [
    "from os import path\n",
    "import csv\n",
    "\n",
    "from wordcloud import WordCloud\n",
    "#define the path for the input file.\n",
    "d = path.dirname(\"your directory\")\n",
    "\n",
    "# Read the whole text.\n",
    "def csv_reading(file_name,col_name=None):\n",
    "    pre_text=''\n",
    "    with open(path.join(d, file_name)) as csvfile:\n",
    "        readCSV = csv.reader(csvfile, delimiter=',')\n",
    "        rownum = 0\n",
    "        for row in readCSV:\n",
    "        # Save header row.\n",
    "            if rownum == 0:\n",
    "                header = row\n",
    "            else:\n",
    "                colnum = 0\n",
    "               \n",
    "                for col in row:\n",
    "                    if colnum == header.index(col_name):\n",
    "                        pre_text+= '%s\\n' % col\n",
    "                    colnum+=1\n",
    "            rownum += 1\n",
    "    return pre_text\n",
    " #col_name=Article title or context            \n",
    "text=csv_reading('consulting_doc.csv',col_name='About_Consulting')\n",
    "text=text.lower()\n",
    "text = text.replace(\"may\", \"\")\n",
    "text = text.replace(\"usually\", \"\")\n",
    "text = text.replace(\"generally\", \"\")\n",
    "text = text.replace(\"many\", \"\")\n",
    "text = text.replace(\"often\", \"\")\n",
    "text = text.replace(\"also\", \"\")\n",
    "# Generate a word cloud image\n",
    "wordcloud = WordCloud().generate(text)\n",
    "\n",
    "\n",
    "\n",
    "# Display the generated image:\n",
    "# the matplotlib way:\n",
    "import matplotlib.pyplot as plt\n",
    "plt.imshow(wordcloud)\n",
    "plt.axis(\"off\")\n",
    "\n",
    "# take relative word frequencies into account, lower max_font_size\n",
    "wordcloud = WordCloud(max_font_size=40, relative_scaling=.5).generate(text)\n",
    "plt.figure()\n",
    "plt.imshow(wordcloud)\n",
    "plt.axis(\"off\")\n",
    "plt.show()\n",
    "\n",
    "# The pil way (if you don't have matplotlib)\n",
    "#image = wordcloud.to_image()\n",
    "#image.show()"
   ]
  },
  {
   "cell_type": "code",
   "execution_count": null,
   "metadata": {
    "collapsed": true
   },
   "outputs": [],
   "source": []
  }
 ],
 "metadata": {
  "kernelspec": {
   "display_name": "Python 3",
   "language": "python",
   "name": "python3"
  },
  "language_info": {
   "codemirror_mode": {
    "name": "ipython",
    "version": 3
   },
   "file_extension": ".py",
   "mimetype": "text/x-python",
   "name": "python",
   "nbconvert_exporter": "python",
   "pygments_lexer": "ipython3",
   "version": "3.5.2"
  }
 },
 "nbformat": 4,
 "nbformat_minor": 0
}
